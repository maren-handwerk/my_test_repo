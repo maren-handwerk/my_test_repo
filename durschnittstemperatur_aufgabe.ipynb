{
 "cells": [
  {
   "metadata": {
    "ExecuteTime": {
     "end_time": "2024-10-29T21:48:53.082468Z",
     "start_time": "2024-10-29T21:48:53.080279Z"
    }
   },
   "cell_type": "code",
   "source": "import pandas as pd",
   "id": "f185c0d75d297f40",
   "outputs": [],
   "execution_count": 11
  },
  {
   "metadata": {
    "ExecuteTime": {
     "end_time": "2024-10-29T21:48:53.087488Z",
     "start_time": "2024-10-29T21:48:53.085731Z"
    }
   },
   "cell_type": "code",
   "source": "import numpy as np",
   "id": "ad4860e7b4df651c",
   "outputs": [],
   "execution_count": 12
  },
  {
   "metadata": {
    "ExecuteTime": {
     "end_time": "2024-10-29T21:48:53.099427Z",
     "start_time": "2024-10-29T21:48:53.095385Z"
    }
   },
   "cell_type": "code",
   "source": [
    "# CSV-Datei einlesen\n",
    "df = pd.read_csv('wetter.csv')\n",
    "\n",
    "# Durchschnittstemperatur berechnen\n",
    "durchschnitt = df['Temperatur'].mean()\n",
    "\n",
    "# Ergebnis ausgeben\n",
    "print(f\"Die Durchschnittstemperatur beträgt: {durchschnitt:.2f}°C\")\n"
   ],
   "id": "f0ee5ce9c02918bc",
   "outputs": [
    {
     "name": "stdout",
     "output_type": "stream",
     "text": [
      "Die Durchschnittstemperatur beträgt: 12.10°C\n"
     ]
    }
   ],
   "execution_count": 13
  },
  {
   "metadata": {
    "ExecuteTime": {
     "end_time": "2024-10-29T21:48:53.111422Z",
     "start_time": "2024-10-29T21:48:53.105232Z"
    }
   },
   "cell_type": "code",
   "source": [
    "import pandas as pd\n",
    "\n",
    "try:\n",
    "    # Datei einlesen\n",
    "    df = pd.read_csv('wetter.csv')\n",
    "\n",
    "    # Überprüfen, ob die erste Spalte existiert\n",
    "    if df.columns[0]:\n",
    "        # Datum aus der ersten Spalte in Datetime konvertieren\n",
    "        df['Datum'] = pd.to_datetime(df[df.columns[0]])\n",
    "\n",
    "        # Den Monat extrahieren\n",
    "        df['Monat'] = df['Datum'].dt.month_name()\n",
    "\n",
    "        # Durchschnittstemperatur für den Monat Juli ermitteln\n",
    "        juli_df = df[df['Monat'] == 'July']\n",
    "        durchschnitt_juli = juli_df['Temperatur'].mean()\n",
    "\n",
    "         # Ergebnis ausgeben\n",
    "        print(f\"Durchschnittstemperatur im Juli: {durchschnitt_juli:.2f}°C\")\n",
    "    else:\n",
    "        raise KeyError(\n",
    "            'Die erste Spalte ist nicht in der CSV-Datei vorhanden. Verfügbare Spalten: ' + ', '.join(df.columns))\n",
    "except FileNotFoundError:\n",
    "    print('Die Datei \"wetter.csv\" wurde nicht gefunden.')\n",
    "except KeyError as e:\n",
    "    print(e)\n"
   ],
   "id": "9e34cf9ecad6a9b2",
   "outputs": [
    {
     "name": "stdout",
     "output_type": "stream",
     "text": [
      "Durchschnittstemperatur im Juli: 20.75°C\n"
     ]
    }
   ],
   "execution_count": 14
  },
  {
   "metadata": {
    "ExecuteTime": {
     "end_time": "2024-10-29T21:48:53.122676Z",
     "start_time": "2024-10-29T21:48:53.117534Z"
    }
   },
   "cell_type": "code",
   "source": [
    "import pandas as pd\n",
    "\n",
    "try:\n",
    "    # Datei einlesen\n",
    "    df = pd.read_csv('wetter.csv')\n",
    "\n",
    "    # Überprüfen, ob die erste Spalte existiert\n",
    "    if df.columns[0]:\n",
    "        # Datum aus der ersten Spalte in Datetime konvertieren\n",
    "        df['Datum'] = pd.to_datetime(df[df.columns[0]])\n",
    "\n",
    "        # Den Monat extrahieren\n",
    "        df['Monat'] = df['Datum'].dt.month_name()\n",
    "\n",
    "        # Durchschnittstemperatur für den Monat Mai ermitteln\n",
    "        mai_df = df[df['Monat'] == 'May']\n",
    "        durchschnitt_mai = mai_df['Temperatur'].mean()\n",
    "\n",
    "        # Ergebnis ausgeben\n",
    "        print(f\"Durchschnittstemperatur im Mai: {durchschnitt_mai:.2f}°C\")\n",
    "    else:\n",
    "        raise KeyError(\n",
    "            'Die erste Spalte ist nicht in der CSV-Datei vorhanden. Verfügbare Spalten: ' + ', '.join(df.columns))\n",
    "except FileNotFoundError:\n",
    "    print('Die Datei \"wetter.csv\" wurde nicht gefunden.')\n",
    "except KeyError as e:\n",
    "    print(e)\n"
   ],
   "id": "23e1ba44b61044fd",
   "outputs": [
    {
     "name": "stdout",
     "output_type": "stream",
     "text": [
      "Durchschnittstemperatur im Mai: 15.24°C\n"
     ]
    }
   ],
   "execution_count": 15
  },
  {
   "metadata": {
    "ExecuteTime": {
     "end_time": "2024-10-29T21:54:01.825929Z",
     "start_time": "2024-10-29T21:54:01.771070Z"
    }
   },
   "cell_type": "code",
   "source": [
    "import pandas as pd\n",
    "\n",
    "try:\n",
    "    # Datei einlesen\n",
    "    df = pd.read_csv('wetter.csv')\n",
    "\n",
    "    # Überprüfen, ob die erste Spalte existiert\n",
    "    if df.columns[0]:\n",
    "        # Datum aus der ersten Spalte in Datetime konvertieren\n",
    "        df['Datum'] = pd.to_datetime(df[df.columns[0]])\n",
    "\n",
    "        # Den Monat extrahieren\n",
    "        df['Monat'] = df['Datum'].dt.month_name()\n",
    "\n",
    "        # Gesamtdurchschnittstemperatur ermitteln\n",
    "        gesamt_durchschnitt = df['Temperatur'].mean()\n",
    "\n",
    "        # Durchschnittstemperatur für den Monat Juli ermitteln\n",
    "        juli_df = df[df['Monat'] == 'July']\n",
    "        durchschnitt_juli = juli_df['Temperatur'].mean()\n",
    "\n",
    "        # Durchschnittstemperatur für den Monat Mai ermitteln\n",
    "        mai_df = df[df['Monat'] == 'May']\n",
    "        durchschnitt_mai = mai_df['Temperatur'].mean()\n",
    "\n",
    "        # Unterschied zwischen den Durchschnittstemperaturen im Mai und Juli\n",
    "        differenz_maijuli = abs(durchschnitt_mai - durchschnitt_juli)\n",
    "\n",
    "        # Gesamtaussage ausgeben\n",
    "        print(f'Die Gesamtdurchschnittstemperatur beträgt {gesamt_durchschnitt:.2f} °C.')\n",
    "        print(f'Die Durchschnittstemperatur im Juli beträgt {durchschnitt_juli:.2f} °C.')\n",
    "        print(f'Die Durchschnittstemperatur im Mai beträgt {durchschnitt_mai:.2f} °C.')\n",
    "        print(\n",
    "            f'Der Unterschied der Durchschnittstemperatur im Mai und im Juli beträgt somit {differenz_maijuli:.2f} °C und ist somit als signifikant unterschiedlich zu bewerten.')\n",
    "\n",
    "    else:\n",
    "        raise KeyError(\n",
    "            'Die erste Spalte ist nicht in der CSV-Datei vorhanden. Verfügbare Spalten: ' + ', '.join(df.columns))\n",
    "except FileNotFoundError:\n",
    "    print('Die Datei \"wetter.csv\" wurde nicht gefunden.')\n",
    "except KeyError as e:\n",
    "    print(e)\n"
   ],
   "id": "7af0f07c9eb3c35e",
   "outputs": [
    {
     "name": "stdout",
     "output_type": "stream",
     "text": [
      "Die Gesamtdurchschnittstemperatur beträgt 12.10 °C.\n",
      "Die Durchschnittstemperatur im Juli beträgt 20.75 °C.\n",
      "Die Durchschnittstemperatur im Mai beträgt 15.24 °C.\n",
      "Der Unterschied der Durchschnittstemperatur im Mai und im Juli beträgt somit 5.51 °C und ist somit als signifikant unterschiedlich zu bewerten.\n"
     ]
    }
   ],
   "execution_count": 16
  }
 ],
 "metadata": {
  "kernelspec": {
   "display_name": "Python 3",
   "language": "python",
   "name": "python3"
  },
  "language_info": {
   "codemirror_mode": {
    "name": "ipython",
    "version": 2
   },
   "file_extension": ".py",
   "mimetype": "text/x-python",
   "name": "python",
   "nbconvert_exporter": "python",
   "pygments_lexer": "ipython2",
   "version": "2.7.6"
  }
 },
 "nbformat": 4,
 "nbformat_minor": 5
}
